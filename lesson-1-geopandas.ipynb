{
 "cells": [
  {
   "cell_type": "markdown",
   "id": "63b82092-1d1b-4367-b0d4-eccbfb0aa7e4",
   "metadata": {},
   "source": [
    "# Intro to geopandas\n",
    "GeoPandas is a python library for geospatial data.\n",
    "\n",
    "Import it with its standard abbreviation"
   ]
  },
  {
   "cell_type": "code",
   "execution_count": 2,
   "id": "8cd5c3e7-e310-4631-97a4-4cc5dc026d55",
   "metadata": {
    "tags": []
   },
   "outputs": [],
   "source": [
    "# this is the library we will explore\n",
    "import geopandas as gpd\n",
    "\n",
    "# will use for making maps\n",
    "import matplotlib.pyplot as plt"
   ]
  },
  {
   "cell_type": "markdown",
   "id": "6e970dca-51b5-4204-8829-9d5a0527d692",
   "metadata": {},
   "source": [
    "## Data \n",
    "\n",
    "We will use simplified data about wild pig (*Sus scrofa*) sightings in CA.\n",
    "Data is from Global Biodiversity Information Facility (GBIF).\n",
    "\n",
    "Read in a shapefile using the `geopandas` function `gdp.read_file()`:"
   ]
  },
  {
   "cell_type": "code",
   "execution_count": 4,
   "id": "0755b89b-74de-49ae-9edd-2964136c00d6",
   "metadata": {
    "tags": []
   },
   "outputs": [
    {
     "data": {
      "text/html": [
       "<div>\n",
       "<style scoped>\n",
       "    .dataframe tbody tr th:only-of-type {\n",
       "        vertical-align: middle;\n",
       "    }\n",
       "\n",
       "    .dataframe tbody tr th {\n",
       "        vertical-align: top;\n",
       "    }\n",
       "\n",
       "    .dataframe thead th {\n",
       "        text-align: right;\n",
       "    }\n",
       "</style>\n",
       "<table border=\"1\" class=\"dataframe\">\n",
       "  <thead>\n",
       "    <tr style=\"text-align: right;\">\n",
       "      <th></th>\n",
       "      <th>gbifID</th>\n",
       "      <th>species</th>\n",
       "      <th>state</th>\n",
       "      <th>individual</th>\n",
       "      <th>day</th>\n",
       "      <th>month</th>\n",
       "      <th>year</th>\n",
       "      <th>inst</th>\n",
       "      <th>collection</th>\n",
       "      <th>catalogNum</th>\n",
       "      <th>identified</th>\n",
       "      <th>geometry</th>\n",
       "    </tr>\n",
       "  </thead>\n",
       "  <tbody>\n",
       "    <tr>\n",
       "      <th>0</th>\n",
       "      <td>899953814</td>\n",
       "      <td>Sus scrofa</td>\n",
       "      <td>California</td>\n",
       "      <td>NaN</td>\n",
       "      <td>22.0</td>\n",
       "      <td>3.0</td>\n",
       "      <td>2014.0</td>\n",
       "      <td>iNaturalist</td>\n",
       "      <td>Observations</td>\n",
       "      <td>581956</td>\n",
       "      <td>edwardrooks</td>\n",
       "      <td>POINT (-121.53812 37.08846)</td>\n",
       "    </tr>\n",
       "    <tr>\n",
       "      <th>1</th>\n",
       "      <td>899951348</td>\n",
       "      <td>Sus scrofa</td>\n",
       "      <td>California</td>\n",
       "      <td>NaN</td>\n",
       "      <td>9.0</td>\n",
       "      <td>6.0</td>\n",
       "      <td>2007.0</td>\n",
       "      <td>iNaturalist</td>\n",
       "      <td>Observations</td>\n",
       "      <td>576047</td>\n",
       "      <td>Bruce Freeman</td>\n",
       "      <td>POINT (-120.54942 35.47354)</td>\n",
       "    </tr>\n",
       "    <tr>\n",
       "      <th>2</th>\n",
       "      <td>896560733</td>\n",
       "      <td>Sus scrofa</td>\n",
       "      <td>California</td>\n",
       "      <td>NaN</td>\n",
       "      <td>20.0</td>\n",
       "      <td>12.0</td>\n",
       "      <td>1937.0</td>\n",
       "      <td>MVZ</td>\n",
       "      <td>Hild</td>\n",
       "      <td>MVZ:Hild:195</td>\n",
       "      <td>Museum of Vertebrate Zoology, University of Ca...</td>\n",
       "      <td>POINT (-122.27063 37.87610)</td>\n",
       "    </tr>\n",
       "    <tr>\n",
       "      <th>3</th>\n",
       "      <td>896559958</td>\n",
       "      <td>Sus scrofa</td>\n",
       "      <td>California</td>\n",
       "      <td>NaN</td>\n",
       "      <td>1.0</td>\n",
       "      <td>4.0</td>\n",
       "      <td>1969.0</td>\n",
       "      <td>MVZ</td>\n",
       "      <td>Hild</td>\n",
       "      <td>MVZ:Hild:1213</td>\n",
       "      <td>Museum of Vertebrate Zoology, University of Ca...</td>\n",
       "      <td>POINT (-121.82297 38.44543)</td>\n",
       "    </tr>\n",
       "    <tr>\n",
       "      <th>4</th>\n",
       "      <td>896559722</td>\n",
       "      <td>Sus scrofa</td>\n",
       "      <td>California</td>\n",
       "      <td>NaN</td>\n",
       "      <td>1.0</td>\n",
       "      <td>1.0</td>\n",
       "      <td>1961.0</td>\n",
       "      <td>MVZ</td>\n",
       "      <td>Hild</td>\n",
       "      <td>MVZ:Hild:1004</td>\n",
       "      <td>Museum of Vertebrate Zoology, University of Ca...</td>\n",
       "      <td>POINT (-121.74559 38.54882)</td>\n",
       "    </tr>\n",
       "  </tbody>\n",
       "</table>\n",
       "</div>"
      ],
      "text/plain": [
       "      gbifID     species       state  individual   day  month    year  \\\n",
       "0  899953814  Sus scrofa  California         NaN  22.0    3.0  2014.0   \n",
       "1  899951348  Sus scrofa  California         NaN   9.0    6.0  2007.0   \n",
       "2  896560733  Sus scrofa  California         NaN  20.0   12.0  1937.0   \n",
       "3  896559958  Sus scrofa  California         NaN   1.0    4.0  1969.0   \n",
       "4  896559722  Sus scrofa  California         NaN   1.0    1.0  1961.0   \n",
       "\n",
       "          inst    collection     catalogNum  \\\n",
       "0  iNaturalist  Observations         581956   \n",
       "1  iNaturalist  Observations         576047   \n",
       "2          MVZ          Hild   MVZ:Hild:195   \n",
       "3          MVZ          Hild  MVZ:Hild:1213   \n",
       "4          MVZ          Hild  MVZ:Hild:1004   \n",
       "\n",
       "                                          identified  \\\n",
       "0                                        edwardrooks   \n",
       "1                                      Bruce Freeman   \n",
       "2  Museum of Vertebrate Zoology, University of Ca...   \n",
       "3  Museum of Vertebrate Zoology, University of Ca...   \n",
       "4  Museum of Vertebrate Zoology, University of Ca...   \n",
       "\n",
       "                      geometry  \n",
       "0  POINT (-121.53812 37.08846)  \n",
       "1  POINT (-120.54942 35.47354)  \n",
       "2  POINT (-122.27063 37.87610)  \n",
       "3  POINT (-121.82297 38.44543)  \n",
       "4  POINT (-121.74559 38.54882)  "
      ]
     },
     "execution_count": 4,
     "metadata": {},
     "output_type": "execute_result"
    }
   ],
   "source": [
    "# read in the data\n",
    "pigs = gpd.read_file('data/gbif_sus_scroga_california/gbif_sus_scroga_california.shp')\n",
    "\n",
    "pigs.head()"
   ]
  },
  {
   "cell_type": "markdown",
   "id": "5b55972a-b26c-40bb-a05d-fc7632634015",
   "metadata": {
    "tags": []
   },
   "source": [
    "## `Geoseries` and `GeoDataFrame`\n",
    "\n",
    "Core data structure of GeoPandas is `geopandas.GeoDataFrame`\n",
    "\n",
    "`geopandas.DataFrame` = think of it as a `pandas.DataFrame` with a dedicated geometry column.\n",
    "\n",
    "The **geometry column** in a `gpd.GeoDataFrame` holds the geometry (point,polygon, etc) of\n",
    "each spatial feature. This column is og type `geopandas.GeoSeries`\n",
    "\n",
    "The other non-geometry columns in the geodataframe are our usual pd.Series type"
   ]
  },
  {
   "cell_type": "code",
   "execution_count": 5,
   "id": "95925484-2b59-48e0-8ed0-0028290c46f5",
   "metadata": {
    "tags": []
   },
   "outputs": [
    {
     "name": "stdout",
     "output_type": "stream",
     "text": [
      "<class 'geopandas.geodataframe.GeoDataFrame'>\n",
      "<class 'geopandas.geoseries.GeoSeries'>\n",
      "<class 'pandas.core.series.Series'>\n"
     ]
    }
   ],
   "source": [
    "# type of pigs data fram \n",
    "print(type(pigs))\n",
    "\n",
    "#type of geometry column \n",
    "print(type(pigs.geometry))\n",
    "\n",
    "#type of the gbifID column\n",
    "print(type(pigs.gbifID))\n"
   ]
  },
  {
   "cell_type": "code",
   "execution_count": null,
   "id": "b5ee0f7c-9a85-4460-9632-3a4a3f986383",
   "metadata": {},
   "outputs": [],
   "source": [
    "The new data type of the geometry column is reflected in the columns"
   ]
  },
  {
   "cell_type": "code",
   "execution_count": 7,
   "id": "3af92cec-e869-4c44-9fc4-2e0b455b3bdc",
   "metadata": {
    "tags": []
   },
   "outputs": [
    {
     "data": {
      "text/plain": [
       "gbifID           int64\n",
       "species         object\n",
       "state           object\n",
       "individual     float64\n",
       "day            float64\n",
       "month          float64\n",
       "year           float64\n",
       "inst            object\n",
       "collection      object\n",
       "catalogNum      object\n",
       "identified      object\n",
       "geometry      geometry\n",
       "dtype: object"
      ]
     },
     "execution_count": 7,
     "metadata": {},
     "output_type": "execute_result"
    }
   ],
   "source": [
    "#Check the data types of the columns\n",
    "pigs.dtypes"
   ]
  },
  {
   "cell_type": "markdown",
   "id": "1f4f9106-b5cc-4844-a03b-425fd69d30b7",
   "metadata": {},
   "source": [
    "## Geometric Information\n",
    "\n",
    "Two other important attributes of a `gpd.GeoDataFrame` are its coordinate reference system (CRS)\n",
    "and its extent.\n",
    "\n",
    "Think of the CRS as instruction to locate each feature on the surface of the Earth. \n",
    "\n",
    "We can access the CRS of the geo-dataframe using the `crs` attribute:"
   ]
  },
  {
   "cell_type": "code",
   "execution_count": 9,
   "id": "1ecf0f36-b6de-4e85-a331-ae6b01efa412",
   "metadata": {
    "tags": []
   },
   "outputs": [
    {
     "data": {
      "text/plain": [
       "<Geographic 2D CRS: EPSG:4326>\n",
       "Name: WGS 84\n",
       "Axis Info [ellipsoidal]:\n",
       "- Lat[north]: Geodetic latitude (degree)\n",
       "- Lon[east]: Geodetic longitude (degree)\n",
       "Area of Use:\n",
       "- name: World\n",
       "- bounds: (-180.0, -90.0, 180.0, 90.0)\n",
       "Datum: World Geodetic System 1984\n",
       "- Ellipsoid: WGS 84\n",
       "- Prime Meridian: Greenwich"
      ]
     },
     "execution_count": 9,
     "metadata": {},
     "output_type": "execute_result"
    }
   ],
   "source": [
    "# access CRS\n",
    "pigs.crs"
   ]
  },
  {
   "cell_type": "markdown",
   "id": "5da0f1b5-9ffc-4a8b-acd0-e725291aab33",
   "metadata": {},
   "source": [
    "The **extent** of the geo-dataframe is the bounding box covering *all* of the features \n",
    "in the geo-dataframe.\n",
    "\n",
    "We access information to create the extent of a geo-dataframe using the `total_bounds` attribute"
   ]
  },
  {
   "cell_type": "code",
   "execution_count": 10,
   "id": "60828032-7ccb-43a3-a445-1a2dafb3d527",
   "metadata": {
    "tags": []
   },
   "outputs": [
    {
     "data": {
      "text/plain": [
       "array([-124.29448 ,   32.593433, -115.4356  ,   40.934296])"
      ]
     },
     "execution_count": 10,
     "metadata": {},
     "output_type": "execute_result"
    }
   ],
   "source": [
    "pigs.total_bounds"
   ]
  },
  {
   "cell_type": "markdown",
   "id": "8409fd41-4451-4cd4-814b-5791ad2cc6c3",
   "metadata": {},
   "source": [
    "## Data wrangling\n",
    "\n",
    "Geopandas is built on top of `pandas`, so (almost) everything we have learned\n",
    "about wrangling pandas data, appplies here\n",
    "\n",
    "Ex:\n",
    "    We only want to use recent data for the wild pig observations"
   ]
  },
  {
   "cell_type": "code",
   "execution_count": 14,
   "id": "3cf838bf-5ddd-4275-830a-9a478e1392e4",
   "metadata": {
    "tags": []
   },
   "outputs": [
    {
     "data": {
      "text/plain": [
       "1818.0     31\n",
       "1910.0      1\n",
       "1925.0      1\n",
       "1927.0      4\n",
       "1929.0      3\n",
       "         ... \n",
       "2019.0    101\n",
       "2020.0    159\n",
       "2021.0    164\n",
       "2022.0    185\n",
       "2023.0     98\n",
       "Name: year, Length: 61, dtype: int64"
      ]
     },
     "execution_count": 14,
     "metadata": {},
     "output_type": "execute_result"
    }
   ],
   "source": [
    "# what years do we have\n",
    "pigs.year.value_counts().sort_index()"
   ]
  },
  {
   "cell_type": "markdown",
   "id": "012d23f6-38a3-4049-b97e-b432ce617845",
   "metadata": {},
   "source": [
    "We can use our usual data collection"
   ]
  },
  {
   "cell_type": "code",
   "execution_count": 16,
   "id": "1c4ba87b-a7d7-4deb-9136-e342597a3ccb",
   "metadata": {
    "tags": []
   },
   "outputs": [
    {
     "name": "stdout",
     "output_type": "stream",
     "text": [
      "1046\n",
      "606\n"
     ]
    },
    {
     "data": {
      "text/html": [
       "<div>\n",
       "<style scoped>\n",
       "    .dataframe tbody tr th:only-of-type {\n",
       "        vertical-align: middle;\n",
       "    }\n",
       "\n",
       "    .dataframe tbody tr th {\n",
       "        vertical-align: top;\n",
       "    }\n",
       "\n",
       "    .dataframe thead th {\n",
       "        text-align: right;\n",
       "    }\n",
       "</style>\n",
       "<table border=\"1\" class=\"dataframe\">\n",
       "  <thead>\n",
       "    <tr style=\"text-align: right;\">\n",
       "      <th></th>\n",
       "      <th>gbifID</th>\n",
       "      <th>species</th>\n",
       "      <th>state</th>\n",
       "      <th>individual</th>\n",
       "      <th>day</th>\n",
       "      <th>month</th>\n",
       "      <th>year</th>\n",
       "      <th>inst</th>\n",
       "      <th>collection</th>\n",
       "      <th>catalogNum</th>\n",
       "      <th>identified</th>\n",
       "      <th>geometry</th>\n",
       "    </tr>\n",
       "  </thead>\n",
       "  <tbody>\n",
       "    <tr>\n",
       "      <th>61</th>\n",
       "      <td>4424675671</td>\n",
       "      <td>Sus scrofa</td>\n",
       "      <td>California</td>\n",
       "      <td>NaN</td>\n",
       "      <td>23.0</td>\n",
       "      <td>9.0</td>\n",
       "      <td>2023.0</td>\n",
       "      <td>iNaturalist</td>\n",
       "      <td>Observations</td>\n",
       "      <td>186357811</td>\n",
       "      <td>madamcoyote</td>\n",
       "      <td>POINT (-124.28580 40.32482)</td>\n",
       "    </tr>\n",
       "    <tr>\n",
       "      <th>62</th>\n",
       "      <td>4424357894</td>\n",
       "      <td>Sus scrofa</td>\n",
       "      <td>California</td>\n",
       "      <td>NaN</td>\n",
       "      <td>6.0</td>\n",
       "      <td>10.0</td>\n",
       "      <td>2023.0</td>\n",
       "      <td>iNaturalist</td>\n",
       "      <td>Observations</td>\n",
       "      <td>186474363</td>\n",
       "      <td>skullroy</td>\n",
       "      <td>POINT (-120.82724 35.34895)</td>\n",
       "    </tr>\n",
       "    <tr>\n",
       "      <th>63</th>\n",
       "      <td>4424357588</td>\n",
       "      <td>Sus scrofa</td>\n",
       "      <td>California</td>\n",
       "      <td>NaN</td>\n",
       "      <td>5.0</td>\n",
       "      <td>10.0</td>\n",
       "      <td>2023.0</td>\n",
       "      <td>iNaturalist</td>\n",
       "      <td>Observations</td>\n",
       "      <td>186333783</td>\n",
       "      <td>Brian Ahern</td>\n",
       "      <td>POINT (-121.71683 37.34602)</td>\n",
       "    </tr>\n",
       "    <tr>\n",
       "      <th>64</th>\n",
       "      <td>4424288359</td>\n",
       "      <td>Sus scrofa</td>\n",
       "      <td>California</td>\n",
       "      <td>NaN</td>\n",
       "      <td>7.0</td>\n",
       "      <td>10.0</td>\n",
       "      <td>2023.0</td>\n",
       "      <td>iNaturalist</td>\n",
       "      <td>Observations</td>\n",
       "      <td>186602594</td>\n",
       "      <td>Steph</td>\n",
       "      <td>POINT (-119.62832 37.28900)</td>\n",
       "    </tr>\n",
       "    <tr>\n",
       "      <th>65</th>\n",
       "      <td>4424285723</td>\n",
       "      <td>Sus scrofa</td>\n",
       "      <td>California</td>\n",
       "      <td>NaN</td>\n",
       "      <td>5.0</td>\n",
       "      <td>10.0</td>\n",
       "      <td>2023.0</td>\n",
       "      <td>iNaturalist</td>\n",
       "      <td>Observations</td>\n",
       "      <td>186479844</td>\n",
       "      <td>natleecrockett</td>\n",
       "      <td>POINT (-121.77317 37.50025)</td>\n",
       "    </tr>\n",
       "  </tbody>\n",
       "</table>\n",
       "</div>"
      ],
      "text/plain": [
       "        gbifID     species       state  individual   day  month    year  \\\n",
       "61  4424675671  Sus scrofa  California         NaN  23.0    9.0  2023.0   \n",
       "62  4424357894  Sus scrofa  California         NaN   6.0   10.0  2023.0   \n",
       "63  4424357588  Sus scrofa  California         NaN   5.0   10.0  2023.0   \n",
       "64  4424288359  Sus scrofa  California         NaN   7.0   10.0  2023.0   \n",
       "65  4424285723  Sus scrofa  California         NaN   5.0   10.0  2023.0   \n",
       "\n",
       "           inst    collection catalogNum      identified  \\\n",
       "61  iNaturalist  Observations  186357811     madamcoyote   \n",
       "62  iNaturalist  Observations  186474363        skullroy   \n",
       "63  iNaturalist  Observations  186333783     Brian Ahern   \n",
       "64  iNaturalist  Observations  186602594           Steph   \n",
       "65  iNaturalist  Observations  186479844  natleecrockett   \n",
       "\n",
       "                       geometry  \n",
       "61  POINT (-124.28580 40.32482)  \n",
       "62  POINT (-120.82724 35.34895)  \n",
       "63  POINT (-121.71683 37.34602)  \n",
       "64  POINT (-119.62832 37.28900)  \n",
       "65  POINT (-121.77317 37.50025)  "
      ]
     },
     "execution_count": 16,
     "metadata": {},
     "output_type": "execute_result"
    }
   ],
   "source": [
    "# select data from 2020 onwards\n",
    "pigs_recent = pigs[pigs.year >= 2020]\n",
    "\n",
    "# print length of original dataframe\n",
    "print(len(pigs))\n",
    "\n",
    "# print length of subset\n",
    "print(len(pigs_recent))\n",
    "\n",
    "pigs_recent.head()"
   ]
  },
  {
   "cell_type": "markdown",
   "id": "058b07e2-1eb2-4273-985f-61434cb6e2fa",
   "metadata": {},
   "source": [
    "## Plotting\n",
    "\n",
    "### `plot()`\n",
    "\n",
    "`gpd.DataFrame` has a `plot()` method that we can call directly to create a quick view\n",
    "of the data.\n",
    "\n",
    "The geospatial information will be automatically used to create the axis of the plot\n",
    "Example: "
   ]
  },
  {
   "cell_type": "code",
   "execution_count": 17,
   "id": "28663db1-563a-4e3a-94b9-bf59c4c77169",
   "metadata": {
    "tags": []
   },
   "outputs": [
    {
     "data": {
      "text/plain": [
       "<AxesSubplot:>"
      ]
     },
     "execution_count": 17,
     "metadata": {},
     "output_type": "execute_result"
    },
    {
     "data": {
      "image/png": "[encoded data removed]",
      "text/plain": [
       "<Figure size 640x480 with 1 Axes>"
      ]
     },
     "metadata": {},
     "output_type": "display_data"
    }
   ],
   "source": [
    "pigs_recent.plot()"
   ]
  },
  {
   "cell_type": "markdown",
   "id": "912f5142-37d0-4668-8379-f53622b35f06",
   "metadata": {},
   "source": [
    "### `matplotlib`'s `fig` and `ax`\n",
    "\n",
    "We use `matplotlib` to create more complex customized graphs\n",
    "In particular maps\n",
    "\n",
    "We can interact with `matplotlib` via its `pyplot` interface, which we imported as\n",
    "\n",
    "```python\n",
    "import matplotlib.pyplot as plt\n",
    "```\n",
    "\n",
    "Matplotlib graphs the data in a **figure** which can have one or more **axes**.\n",
    "The axis is *only* the area specifyed by the x-y axis and what is plotted in it.\n",
    "To initialize a blank figure:\n",
    "\n",
    "1. Initialize the blank figure and axes by calling `plyplot`'s `subplots()` function, and\n",
    "2. show the graph using `plt.show()`"
   ]
  },
  {
   "cell_type": "code",
   "execution_count": 18,
   "id": "03b0ead6-9048-40f7-b0b2-453bd5fc9c0d",
   "metadata": {
    "tags": []
   },
   "outputs": [
    {
     "data": {
      "text/plain": [
       "<function matplotlib.pyplot.show(close=None, block=None)>"
      ]
     },
     "execution_count": 18,
     "metadata": {},
     "output_type": "execute_result"
    },
    {
     "data": {
      "image/png": "[encoded data removed]",
      "text/plain": [
       "<Figure size 640x480 with 1 Axes>"
      ]
     },
     "metadata": {},
     "output_type": "display_data"
    }
   ],
   "source": [
    "# create a blank figure (fig) and an empty acis (ax)\n",
    "fig, ax = plt.subplots()\n",
    "\n",
    "#display figure\n",
    "plt.show"
   ]
  },
  {
   "cell_type": "markdown",
   "id": "9d67ee57-3b33-438b-9da4-1aeedf7e72d9",
   "metadata": {},
   "source": [
    "## Adding a layer \n",
    "When using `matplotlib` it can be useful to think of creating a plot, as adding \n",
    "layers to an axis. \n",
    "\n",
    "The genral syntax to plot a dataframe onto an axis is:\n",
    "```python\n",
    "#create a new figure\n",
    "fig, axis = plt.subplots()\n",
    "\n",
    "# plot df on the x axis \n",
    "df.plot(ax=ax, #when you plot this data I want you to do it on this axis\n",
    "       ...) #other arguments for the plot function (colors, etc.)\n",
    "plt.show()\n",
    "```\n",
    "***Examples***\n",
    "The first layer we want to add to our axis is the `pigs_recent` point data"
   ]
  },
  {
   "cell_type": "code",
   "execution_count": 19,
   "id": "fb9c624b-5e7f-4856-bc82-10b82dd6a002",
   "metadata": {
    "tags": []
   },
   "outputs": [
    {
     "data": {
      "text/plain": [
       "<AxesSubplot:>"
      ]
     },
     "execution_count": 19,
     "metadata": {},
     "output_type": "execute_result"
    },
    {
     "data": {
      "image/png": "[encoded data removed]",
      "text/plain": [
       "<Figure size 640x480 with 1 Axes>"
      ]
     },
     "metadata": {},
     "output_type": "display_data"
    }
   ],
   "source": [
    "# create a new figure and axis\n",
    "fig, ax = plt.subplots()\n",
    "\n",
    "# add pigs point plot to our figure's axis\n",
    "pigs_recent.plot(ax=ax)"
   ]
  },
  {
   "cell_type": "markdown",
   "id": "45c28206-ece8-4098-984f-9312e81942c4",
   "metadata": {},
   "source": [
    "### Customization\n",
    "\n",
    "Matplotlib allows for a lot of customization.\n",
    "Some can be done directly in the `plot()` function(like we did with plotting pandas as dataframes),\n",
    "while other is done by updating attributes from the axis `ax`.\n",
    "\n",
    "some basic customization of our pigs data:"
   ]
  },
  {
   "cell_type": "code",
   "execution_count": 22,
   "id": "1f01f508-a164-41db-bf1c-681c784cb65d",
   "metadata": {
    "tags": []
   },
   "outputs": [
    {
     "data": {
      "image/png": "[encoded data removed]",
      "text/plain": [
       "<Figure size 640x480 with 1 Axes>"
      ]
     },
     "metadata": {},
     "output_type": "display_data"
    }
   ],
   "source": [
    "# initialize na empty figure\n",
    "fig,ax = plt.subplots()\n",
    "\n",
    "#add data to axis\n",
    "#notice customization, happens as arguments in plot()\n",
    "pigs_recent.plot(ax=ax,\n",
    "                alpha = 0.5,\n",
    "                color=\"red\")\n",
    "\n",
    "#update axis\n",
    "# customization separate from the data plotting\n",
    "ax.set_title('Reported \"Sus scrofa\" sightings in CA (2020-2023)')\n",
    "ax.set_xlabel('Longitude')\n",
    "ax.set_ylabel('Latitude')\n",
    "\n",
    "#display figure\n",
    "plt.show()"
   ]
  },
  {
   "cell_type": "markdown",
   "id": "e6782fcd-1bbd-4473-8fce-044dbacdd4c9",
   "metadata": {},
   "source": [
    "## Exercise\n",
    "\n",
    "1. Open the CA boundary shapefile and how many features does it have store as CA boundary\n",
    "2. Add it to the pigs sightings graph so the CA boundary appears behind the points\n"
   ]
  },
  {
   "cell_type": "code",
   "execution_count": 46,
   "id": "0038799e-77a6-4521-aeed-69499944ee48",
   "metadata": {
    "tags": []
   },
   "outputs": [
    {
     "data": {
      "text/plain": [
       "0    MultiPolygon\n",
       "dtype: object"
      ]
     },
     "execution_count": 46,
     "metadata": {},
     "output_type": "execute_result"
    }
   ],
   "source": [
    "ca_boundary = gpd.read_file('data/ca-boundary/ca-boundary.shp')\n",
    "\n",
    "ca_boundary\n",
    "\n",
    "# geom_type will show what kind of vector data is stored in each feature of the geometry column\n",
    "ca_boundary.geom_type"
   ]
  },
  {
   "cell_type": "code",
   "execution_count": 53,
   "id": "872f3d1a-d51b-4e9e-9af2-1483b1f54d20",
   "metadata": {
    "tags": []
   },
   "outputs": [
    {
     "data": {
      "text/plain": [
       "<function matplotlib.pyplot.show(close=None, block=None)>"
      ]
     },
     "execution_count": 53,
     "metadata": {},
     "output_type": "execute_result"
    },
    {
     "data": {
      "image/png": "[encoded data removed]",
      "text/plain": [
       "<Figure size 640x480 with 1 Axes>"
      ]
     },
     "metadata": {},
     "output_type": "display_data"
    }
   ],
   "source": [
    "fig,ax = plt.subplots()\n",
    "\n",
    "\n",
    "ca_boundary.plot(ax = ax,\n",
    "                color = 'none',\n",
    "                edgecolor = 'salmon')\n",
    "pigs_recent.plot(ax=ax,\n",
    "                alpha = 0.5,\n",
    "                color=\"blue\")\n",
    "\n",
    "plt.show"
   ]
  }
 ],
 "metadata": {
  "kernelspec": {
   "display_name": "Anaconda 3 (Base)",
   "language": "python",
   "name": "base"
  },
  "language_info": {
   "codemirror_mode": {
    "name": "ipython",
    "version": 3
   },
   "file_extension": ".py",
   "mimetype": "text/x-python",
   "name": "python",
   "nbconvert_exporter": "python",
   "pygments_lexer": "ipython3",
   "version": "3.9.13"
  }
 },
 "nbformat": 4,
 "nbformat_minor": 5
}
